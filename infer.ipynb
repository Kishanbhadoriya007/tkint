{
 "cells": [
  {
   "cell_type": "code",
   "execution_count": 1,
   "metadata": {},
   "outputs": [],
   "source": [
    "import pickle\n",
    "with open('knn_model.pickle','rb') as f:\n",
    "  knn_new = pickle.load(f)"
   ]
  },
  {
   "cell_type": "code",
   "execution_count": 2,
   "metadata": {},
   "outputs": [],
   "source": [
    "import pickle\n",
    "with open('scaler.pickle','rb') as f:\n",
    "  scaler_new = pickle.load(f)"
   ]
  },
  {
   "cell_type": "code",
   "execution_count": 3,
   "metadata": {},
   "outputs": [],
   "source": [
    "import pandas as pd\n",
    "new_df = pd.read_csv(\"https://raw.githubusercontent.com/futurexskill/projects/main/knn-classification/new_customers.csv\")"
   ]
  },
  {
   "cell_type": "code",
   "execution_count": 4,
   "metadata": {},
   "outputs": [
    {
     "data": {
      "text/plain": [
       "10"
      ]
     },
     "execution_count": 4,
     "metadata": {},
     "output_type": "execute_result"
    }
   ],
   "source": [
    "len(new_df)"
   ]
  },
  {
   "cell_type": "code",
   "execution_count": 5,
   "metadata": {},
   "outputs": [],
   "source": [
    "gender_encoded_new = pd.get_dummies(new_df['Gender'], drop_first=True)"
   ]
  },
  {
   "cell_type": "code",
   "execution_count": 6,
   "metadata": {},
   "outputs": [
    {
     "data": {
      "text/html": [
       "<div>\n",
       "<style scoped>\n",
       "    .dataframe tbody tr th:only-of-type {\n",
       "        vertical-align: middle;\n",
       "    }\n",
       "\n",
       "    .dataframe tbody tr th {\n",
       "        vertical-align: top;\n",
       "    }\n",
       "\n",
       "    .dataframe thead th {\n",
       "        text-align: right;\n",
       "    }\n",
       "</style>\n",
       "<table border=\"1\" class=\"dataframe\">\n",
       "  <thead>\n",
       "    <tr style=\"text-align: right;\">\n",
       "      <th></th>\n",
       "      <th>Male</th>\n",
       "    </tr>\n",
       "  </thead>\n",
       "  <tbody>\n",
       "    <tr>\n",
       "      <th>0</th>\n",
       "      <td>True</td>\n",
       "    </tr>\n",
       "    <tr>\n",
       "      <th>1</th>\n",
       "      <td>False</td>\n",
       "    </tr>\n",
       "    <tr>\n",
       "      <th>2</th>\n",
       "      <td>True</td>\n",
       "    </tr>\n",
       "    <tr>\n",
       "      <th>3</th>\n",
       "      <td>True</td>\n",
       "    </tr>\n",
       "    <tr>\n",
       "      <th>4</th>\n",
       "      <td>True</td>\n",
       "    </tr>\n",
       "    <tr>\n",
       "      <th>5</th>\n",
       "      <td>True</td>\n",
       "    </tr>\n",
       "    <tr>\n",
       "      <th>6</th>\n",
       "      <td>False</td>\n",
       "    </tr>\n",
       "    <tr>\n",
       "      <th>7</th>\n",
       "      <td>True</td>\n",
       "    </tr>\n",
       "    <tr>\n",
       "      <th>8</th>\n",
       "      <td>False</td>\n",
       "    </tr>\n",
       "    <tr>\n",
       "      <th>9</th>\n",
       "      <td>True</td>\n",
       "    </tr>\n",
       "  </tbody>\n",
       "</table>\n",
       "</div>"
      ],
      "text/plain": [
       "    Male\n",
       "0   True\n",
       "1  False\n",
       "2   True\n",
       "3   True\n",
       "4   True\n",
       "5   True\n",
       "6  False\n",
       "7   True\n",
       "8  False\n",
       "9   True"
      ]
     },
     "execution_count": 6,
     "metadata": {},
     "output_type": "execute_result"
    }
   ],
   "source": [
    "gender_encoded_new"
   ]
  },
  {
   "cell_type": "code",
   "execution_count": 7,
   "metadata": {},
   "outputs": [],
   "source": [
    "df_new_2 = pd.concat([new_df,gender_encoded_new],axis=1)"
   ]
  },
  {
   "cell_type": "code",
   "execution_count": 8,
   "metadata": {},
   "outputs": [
    {
     "data": {
      "text/html": [
       "<div>\n",
       "<style scoped>\n",
       "    .dataframe tbody tr th:only-of-type {\n",
       "        vertical-align: middle;\n",
       "    }\n",
       "\n",
       "    .dataframe tbody tr th {\n",
       "        vertical-align: top;\n",
       "    }\n",
       "\n",
       "    .dataframe thead th {\n",
       "        text-align: right;\n",
       "    }\n",
       "</style>\n",
       "<table border=\"1\" class=\"dataframe\">\n",
       "  <thead>\n",
       "    <tr style=\"text-align: right;\">\n",
       "      <th></th>\n",
       "      <th>Gender</th>\n",
       "      <th>Age</th>\n",
       "      <th>Salary</th>\n",
       "      <th>Product ID</th>\n",
       "      <th>Price</th>\n",
       "      <th>Male</th>\n",
       "    </tr>\n",
       "  </thead>\n",
       "  <tbody>\n",
       "    <tr>\n",
       "      <th>0</th>\n",
       "      <td>Male</td>\n",
       "      <td>24</td>\n",
       "      <td>38652</td>\n",
       "      <td>3</td>\n",
       "      <td>4446</td>\n",
       "      <td>True</td>\n",
       "    </tr>\n",
       "    <tr>\n",
       "      <th>1</th>\n",
       "      <td>Female</td>\n",
       "      <td>47</td>\n",
       "      <td>64727</td>\n",
       "      <td>1</td>\n",
       "      <td>5188</td>\n",
       "      <td>False</td>\n",
       "    </tr>\n",
       "    <tr>\n",
       "      <th>2</th>\n",
       "      <td>Male</td>\n",
       "      <td>46</td>\n",
       "      <td>54648</td>\n",
       "      <td>1</td>\n",
       "      <td>6193</td>\n",
       "      <td>True</td>\n",
       "    </tr>\n",
       "    <tr>\n",
       "      <th>3</th>\n",
       "      <td>Male</td>\n",
       "      <td>31</td>\n",
       "      <td>20018</td>\n",
       "      <td>3</td>\n",
       "      <td>4779</td>\n",
       "      <td>True</td>\n",
       "    </tr>\n",
       "    <tr>\n",
       "      <th>4</th>\n",
       "      <td>Male</td>\n",
       "      <td>58</td>\n",
       "      <td>77731</td>\n",
       "      <td>2</td>\n",
       "      <td>6855</td>\n",
       "      <td>True</td>\n",
       "    </tr>\n",
       "    <tr>\n",
       "      <th>5</th>\n",
       "      <td>Male</td>\n",
       "      <td>28</td>\n",
       "      <td>55478</td>\n",
       "      <td>1</td>\n",
       "      <td>6153</td>\n",
       "      <td>True</td>\n",
       "    </tr>\n",
       "    <tr>\n",
       "      <th>6</th>\n",
       "      <td>Female</td>\n",
       "      <td>48</td>\n",
       "      <td>54211</td>\n",
       "      <td>2</td>\n",
       "      <td>7588</td>\n",
       "      <td>False</td>\n",
       "    </tr>\n",
       "    <tr>\n",
       "      <th>7</th>\n",
       "      <td>Male</td>\n",
       "      <td>31</td>\n",
       "      <td>60076</td>\n",
       "      <td>3</td>\n",
       "      <td>5238</td>\n",
       "      <td>True</td>\n",
       "    </tr>\n",
       "    <tr>\n",
       "      <th>8</th>\n",
       "      <td>Female</td>\n",
       "      <td>42</td>\n",
       "      <td>29290</td>\n",
       "      <td>1</td>\n",
       "      <td>5418</td>\n",
       "      <td>False</td>\n",
       "    </tr>\n",
       "    <tr>\n",
       "      <th>9</th>\n",
       "      <td>Male</td>\n",
       "      <td>50</td>\n",
       "      <td>21445</td>\n",
       "      <td>1</td>\n",
       "      <td>5598</td>\n",
       "      <td>True</td>\n",
       "    </tr>\n",
       "  </tbody>\n",
       "</table>\n",
       "</div>"
      ],
      "text/plain": [
       "   Gender  Age  Salary  Product ID  Price   Male\n",
       "0    Male   24   38652           3   4446   True\n",
       "1  Female   47   64727           1   5188  False\n",
       "2    Male   46   54648           1   6193   True\n",
       "3    Male   31   20018           3   4779   True\n",
       "4    Male   58   77731           2   6855   True\n",
       "5    Male   28   55478           1   6153   True\n",
       "6  Female   48   54211           2   7588  False\n",
       "7    Male   31   60076           3   5238   True\n",
       "8  Female   42   29290           1   5418  False\n",
       "9    Male   50   21445           1   5598   True"
      ]
     },
     "execution_count": 8,
     "metadata": {},
     "output_type": "execute_result"
    }
   ],
   "source": [
    "df_new_2"
   ]
  },
  {
   "cell_type": "code",
   "execution_count": 11,
   "metadata": {},
   "outputs": [],
   "source": [
    "x_new = df_new_2[['Male','Age','Salary','Price']].to_numpy()"
   ]
  },
  {
   "cell_type": "code",
   "execution_count": 12,
   "metadata": {},
   "outputs": [
    {
     "data": {
      "text/plain": [
       "array([[True, 24, 38652, 4446],\n",
       "       [False, 47, 64727, 5188],\n",
       "       [True, 46, 54648, 6193],\n",
       "       [True, 31, 20018, 4779],\n",
       "       [True, 58, 77731, 6855],\n",
       "       [True, 28, 55478, 6153],\n",
       "       [False, 48, 54211, 7588],\n",
       "       [True, 31, 60076, 5238],\n",
       "       [False, 42, 29290, 5418],\n",
       "       [True, 50, 21445, 5598]], dtype=object)"
      ]
     },
     "execution_count": 12,
     "metadata": {},
     "output_type": "execute_result"
    }
   ],
   "source": [
    "x_new"
   ]
  },
  {
   "cell_type": "code",
   "execution_count": 13,
   "metadata": {},
   "outputs": [],
   "source": [
    "x_new_scale2 = scaler_new.fit_transform(x_new)"
   ]
  },
  {
   "cell_type": "code",
   "execution_count": 14,
   "metadata": {},
   "outputs": [
    {
     "data": {
      "text/plain": [
       "array([[ 0.65465367, -1.54774434, -0.48875298, -1.42543997],\n",
       "       [-1.52752523,  0.60971747,  0.93112246, -0.61159228],\n",
       "       [ 0.65465367,  0.51591478,  0.38228547,  0.49072164],\n",
       "       [ 0.65465367, -0.89112553, -1.50343981, -1.06019565],\n",
       "       [ 0.65465367,  1.64154703,  1.63923599,  1.21682294],\n",
       "       [ 0.65465367, -1.17253359,  0.42748189,  0.44684845],\n",
       "       [-1.52752523,  0.70352015,  0.35848928,  2.02079916],\n",
       "       [ 0.65465367, -0.89112553,  0.67785916, -0.55675079],\n",
       "       [-1.52752523,  0.14070403, -0.99854681, -0.35932143],\n",
       "       [ 0.65465367,  0.89112553, -1.42573465, -0.16189207]])"
      ]
     },
     "execution_count": 14,
     "metadata": {},
     "output_type": "execute_result"
    }
   ],
   "source": [
    "x_new_scale2"
   ]
  },
  {
   "cell_type": "code",
   "execution_count": 15,
   "metadata": {},
   "outputs": [],
   "source": [
    "y_new_pred = knn_new.predict(x_new_scale2)"
   ]
  },
  {
   "cell_type": "code",
   "execution_count": 16,
   "metadata": {},
   "outputs": [
    {
     "data": {
      "text/plain": [
       "array([0, 1, 1, 0, 0, 1, 0, 0, 0, 0], dtype=int64)"
      ]
     },
     "execution_count": 16,
     "metadata": {},
     "output_type": "execute_result"
    }
   ],
   "source": [
    "y_new_pred"
   ]
  },
  {
   "cell_type": "code",
   "execution_count": 17,
   "metadata": {},
   "outputs": [],
   "source": [
    "df_new_2['will_purchase'] = y_new_pred"
   ]
  },
  {
   "cell_type": "code",
   "execution_count": 18,
   "metadata": {},
   "outputs": [
    {
     "data": {
      "text/html": [
       "<div>\n",
       "<style scoped>\n",
       "    .dataframe tbody tr th:only-of-type {\n",
       "        vertical-align: middle;\n",
       "    }\n",
       "\n",
       "    .dataframe tbody tr th {\n",
       "        vertical-align: top;\n",
       "    }\n",
       "\n",
       "    .dataframe thead th {\n",
       "        text-align: right;\n",
       "    }\n",
       "</style>\n",
       "<table border=\"1\" class=\"dataframe\">\n",
       "  <thead>\n",
       "    <tr style=\"text-align: right;\">\n",
       "      <th></th>\n",
       "      <th>Gender</th>\n",
       "      <th>Age</th>\n",
       "      <th>Salary</th>\n",
       "      <th>Product ID</th>\n",
       "      <th>Price</th>\n",
       "      <th>Male</th>\n",
       "      <th>will_purchase</th>\n",
       "    </tr>\n",
       "  </thead>\n",
       "  <tbody>\n",
       "    <tr>\n",
       "      <th>0</th>\n",
       "      <td>Male</td>\n",
       "      <td>24</td>\n",
       "      <td>38652</td>\n",
       "      <td>3</td>\n",
       "      <td>4446</td>\n",
       "      <td>True</td>\n",
       "      <td>0</td>\n",
       "    </tr>\n",
       "    <tr>\n",
       "      <th>1</th>\n",
       "      <td>Female</td>\n",
       "      <td>47</td>\n",
       "      <td>64727</td>\n",
       "      <td>1</td>\n",
       "      <td>5188</td>\n",
       "      <td>False</td>\n",
       "      <td>1</td>\n",
       "    </tr>\n",
       "    <tr>\n",
       "      <th>2</th>\n",
       "      <td>Male</td>\n",
       "      <td>46</td>\n",
       "      <td>54648</td>\n",
       "      <td>1</td>\n",
       "      <td>6193</td>\n",
       "      <td>True</td>\n",
       "      <td>1</td>\n",
       "    </tr>\n",
       "    <tr>\n",
       "      <th>3</th>\n",
       "      <td>Male</td>\n",
       "      <td>31</td>\n",
       "      <td>20018</td>\n",
       "      <td>3</td>\n",
       "      <td>4779</td>\n",
       "      <td>True</td>\n",
       "      <td>0</td>\n",
       "    </tr>\n",
       "    <tr>\n",
       "      <th>4</th>\n",
       "      <td>Male</td>\n",
       "      <td>58</td>\n",
       "      <td>77731</td>\n",
       "      <td>2</td>\n",
       "      <td>6855</td>\n",
       "      <td>True</td>\n",
       "      <td>0</td>\n",
       "    </tr>\n",
       "    <tr>\n",
       "      <th>5</th>\n",
       "      <td>Male</td>\n",
       "      <td>28</td>\n",
       "      <td>55478</td>\n",
       "      <td>1</td>\n",
       "      <td>6153</td>\n",
       "      <td>True</td>\n",
       "      <td>1</td>\n",
       "    </tr>\n",
       "    <tr>\n",
       "      <th>6</th>\n",
       "      <td>Female</td>\n",
       "      <td>48</td>\n",
       "      <td>54211</td>\n",
       "      <td>2</td>\n",
       "      <td>7588</td>\n",
       "      <td>False</td>\n",
       "      <td>0</td>\n",
       "    </tr>\n",
       "    <tr>\n",
       "      <th>7</th>\n",
       "      <td>Male</td>\n",
       "      <td>31</td>\n",
       "      <td>60076</td>\n",
       "      <td>3</td>\n",
       "      <td>5238</td>\n",
       "      <td>True</td>\n",
       "      <td>0</td>\n",
       "    </tr>\n",
       "    <tr>\n",
       "      <th>8</th>\n",
       "      <td>Female</td>\n",
       "      <td>42</td>\n",
       "      <td>29290</td>\n",
       "      <td>1</td>\n",
       "      <td>5418</td>\n",
       "      <td>False</td>\n",
       "      <td>0</td>\n",
       "    </tr>\n",
       "    <tr>\n",
       "      <th>9</th>\n",
       "      <td>Male</td>\n",
       "      <td>50</td>\n",
       "      <td>21445</td>\n",
       "      <td>1</td>\n",
       "      <td>5598</td>\n",
       "      <td>True</td>\n",
       "      <td>0</td>\n",
       "    </tr>\n",
       "  </tbody>\n",
       "</table>\n",
       "</div>"
      ],
      "text/plain": [
       "   Gender  Age  Salary  Product ID  Price   Male  will_purchase\n",
       "0    Male   24   38652           3   4446   True              0\n",
       "1  Female   47   64727           1   5188  False              1\n",
       "2    Male   46   54648           1   6193   True              1\n",
       "3    Male   31   20018           3   4779   True              0\n",
       "4    Male   58   77731           2   6855   True              0\n",
       "5    Male   28   55478           1   6153   True              1\n",
       "6  Female   48   54211           2   7588  False              0\n",
       "7    Male   31   60076           3   5238   True              0\n",
       "8  Female   42   29290           1   5418  False              0\n",
       "9    Male   50   21445           1   5598   True              0"
      ]
     },
     "execution_count": 18,
     "metadata": {},
     "output_type": "execute_result"
    }
   ],
   "source": [
    "df_new_2"
   ]
  },
  {
   "cell_type": "code",
   "execution_count": 19,
   "metadata": {},
   "outputs": [],
   "source": [
    "df_new_2.to_csv(\"Model_predictions.csv\",index=False)"
   ]
  },
  {
   "cell_type": "code",
   "execution_count": null,
   "metadata": {},
   "outputs": [],
   "source": []
  },
  {
   "cell_type": "code",
   "execution_count": null,
   "metadata": {},
   "outputs": [],
   "source": []
  }
 ],
 "metadata": {
  "kernelspec": {
   "display_name": "Python 3",
   "language": "python",
   "name": "python3"
  },
  "language_info": {
   "codemirror_mode": {
    "name": "ipython",
    "version": 3
   },
   "file_extension": ".py",
   "mimetype": "text/x-python",
   "name": "python",
   "nbconvert_exporter": "python",
   "pygments_lexer": "ipython3",
   "version": "3.10.10"
  }
 },
 "nbformat": 4,
 "nbformat_minor": 2
}
